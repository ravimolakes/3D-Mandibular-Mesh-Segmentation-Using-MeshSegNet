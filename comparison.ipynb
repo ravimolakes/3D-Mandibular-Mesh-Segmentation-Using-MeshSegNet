{
 "cells": [
  {
   "cell_type": "code",
   "execution_count": null,
   "id": "9d0753fb-f63e-401e-896a-0ea8cda93f6b",
   "metadata": {},
   "outputs": [],
   "source": [
    "import json\n",
    "import matplotlib.pyplot as plt\n",
    "\n",
    "def load_metrics(path, label):\n",
    "    with open(path) as f:\n",
    "        data = json.load(f)\n",
    "    return {\n",
    "        \"label\": label,\n",
    "        \"epochs\": list(range(1, len(data[\"avg_dice\"]) + 1)),\n",
    "        \"avg_dice\": data[\"avg_dice\"],\n",
    "        \"accuracy\": data[\"accuracy\"]\n",
    "    }\n",
    "\n",
    "models = [\n",
    "    load_metrics(\"metrics_meshsegnet.json\", \"MeshSegNet\"),\n",
    "    load_metrics(\"metrics_pointnet.json\", \"PointNet++\"),\n",
    "    load_metrics(\"metrics_dgcnn.json\", \"DGCNN\"),\n",
    "]\n",
    "\n",
    "# 📊 Plot Avg Dice\n",
    "plt.figure(figsize=(12, 5))\n",
    "for m in models:\n",
    "    plt.plot(m[\"epochs\"], m[\"avg_dice\"], label=m[\"label\"])\n",
    "plt.title(\"Avg Dice Comparison\")\n",
    "plt.xlabel(\"Epoch\")\n",
    "plt.ylabel(\"Dice Score\")\n",
    "plt.legend()\n",
    "plt.grid(True)\n",
    "plt.show()\n",
    "\n",
    "# 📊 Plot Accuracy\n",
    "plt.figure(figsize=(12, 5))\n",
    "for m in models:\n",
    "    plt.plot(m[\"epochs\"], m[\"accuracy\"], label=m[\"label\"])\n",
    "plt.title(\"Accuracy Comparison\")\n",
    "plt.xlabel(\"Epoch\")\n",
    "plt.ylabel(\"Accuracy (%)\")\n",
    "plt.legend()\n",
    "plt.grid(True)\n",
    "plt.show()\n"
   ]
  },
  {
   "cell_type": "code",
   "execution_count": null,
   "id": "7e36906e-460f-4f73-9719-c2503d6bf584",
   "metadata": {},
   "outputs": [],
   "source": [
    "for m in models:\n",
    "    print(f\"{m['label']}:\")\n",
    "    print(f\"  Best Dice: {max(m['avg_dice']):.4f}\")\n",
    "    print(f\"  Best Accuracy: {max(m['accuracy']):.2f}%\")\n",
    "    print(\"-\" * 40)\n"
   ]
  }
 ],
 "metadata": {
  "kernelspec": {
   "display_name": "Python 3 (ipykernel)",
   "language": "python",
   "name": "python3"
  },
  "language_info": {
   "codemirror_mode": {
    "name": "ipython",
    "version": 3
   },
   "file_extension": ".py",
   "mimetype": "text/x-python",
   "name": "python",
   "nbconvert_exporter": "python",
   "pygments_lexer": "ipython3",
   "version": "3.12.7"
  }
 },
 "nbformat": 4,
 "nbformat_minor": 5
}
